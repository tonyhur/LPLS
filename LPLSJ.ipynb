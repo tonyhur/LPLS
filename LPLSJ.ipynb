{
 "cells": [
  {
   "cell_type": "markdown",
   "metadata": {},
   "source": [
    "# How to Send a LPL Modeling Code to the LPLServer using Julia"
   ]
  },
  {
   "cell_type": "markdown",
   "metadata": {},
   "source": [
    "> *Author*: Tony Hürlimann, 12. Jun 2019,  <a href=\"mailto:tony.huerlimann@unifr.ch\">Contact Me</a>"
   ]
  },
  {
   "cell_type": "markdown",
   "metadata": {},
   "source": [
    "LPL is a mathematical modeling language that allows one to formulate large linear, integer and non-linear models close to the mathematical notation. The formulation code can then be sent to a solver (like **[Gurobi](http://www.gurobi.com)** or other solvers) to solve the model. LPL contains many additional features that extend it to be a complete programming language. For more information on LPL see **[Short Intro to LPL](http://www.virtual-optima.com/download/docs/lplflash.pdf)**."
   ]
  },
  {
   "cell_type": "markdown",
   "metadata": {},
   "source": [
    "This notebook explains how to send a LPL code (and a complete optimization model) to the LPLServer using the POST protocoll with Julia. Due to security restrictions some file access instructions are not allowed. Note also that the running time is limited.\n",
    "\n",
    "This notebook explains several methods to send a LPL model and retrieve various results. The general method is explained in 4 steps."
   ]
  },
  {
   "cell_type": "markdown",
   "metadata": {},
   "source": [
    "**Step 1**: Import the ``HTTP`` library to Julia."
   ]
  },
  {
   "cell_type": "code",
   "execution_count": null,
   "metadata": {},
   "outputs": [],
   "source": [
    "using HTTP"
   ]
  },
  {
   "cell_type": "markdown",
   "metadata": {},
   "source": [
    "**Step 2**: Define the url for the LPLServer and define the LPL code. Both variables are simple strings."
   ]
  },
  {
   "cell_type": "code",
   "execution_count": null,
   "metadata": {},
   "outputs": [],
   "source": [
    "url   = \"http://lpl.unifr.ch/lpl/LPLS\"\n",
    "model = \"model abc; set i:=1..100; Write{i}('%3d %7d\\n',i,i^3); end\""
   ]
  },
  {
   "cell_type": "markdown",
   "metadata": {},
   "source": [
    "**Note**: The model is enclosed within apostophes (\"), since single quotes (') are used inside the model code. The LPL code above prints the numbers from 1 to 100 together with its cubic values."
   ]
  },
  {
   "cell_type": "markdown",
   "metadata": {},
   "source": [
    "**Step 3**: Send a POST request and store the return value in a variable *r* :"
   ]
  },
  {
   "cell_type": "code",
   "execution_count": null,
   "metadata": {},
   "outputs": [],
   "source": [
    "r = HTTP.request(\"POST\",url,body=model)"
   ]
  },
  {
   "cell_type": "markdown",
   "metadata": {},
   "source": [
    "The retrun value stores in its ``text`` property the ``write`` output of the model (the NOM-file as it is called in the LPL world -- that is, everything the ``Write`` statements have produced)."
   ]
  },
  {
   "cell_type": "markdown",
   "metadata": {},
   "source": [
    "**Step 4**: Get the output from the return value."
   ]
  },
  {
   "cell_type": "code",
   "execution_count": null,
   "metadata": {
    "scrolled": true
   },
   "outputs": [],
   "source": [
    "print(String(r.body))"
   ]
  },
  {
   "cell_type": "code",
   "execution_count": null,
   "metadata": {},
   "outputs": [],
   "source": [
    "r.status"
   ]
  },
  {
   "cell_type": "markdown",
   "metadata": {},
   "source": [
    "The code ``r.status`` is the http code returned. 200 means \"success\"."
   ]
  },
  {
   "cell_type": "markdown",
   "metadata": {},
   "source": [
    "# Return the Solution, not the Writes"
   ]
  },
  {
   "cell_type": "markdown",
   "metadata": {},
   "source": [
    "Instead of returning the output of the ``Write`` statements, one also can return to variables and their values of a mathematical model. All one needs to do is to send an additional parameter in the url string, that is : ``id=1``"
   ]
  },
  {
   "cell_type": "code",
   "execution_count": null,
   "metadata": {},
   "outputs": [],
   "source": [
    "url1 = \"http://lpl.unifr.ch/lpl/LPLS?id=1\""
   ]
  },
  {
   "cell_type": "markdown",
   "metadata": {},
   "source": [
    "Of course, we need now a mathematical model that contains variables and constraints, that is, a complete mathematical model. Here the model is somewhat trivial. It is:\n",
    "$$ \\max\\ x \\ \\ \\text{ subject to }\\  x+y=10$$\n",
    "The solution is trival, and can be found manually, it is simply :\n",
    "$$ x=10\\ ,\\ y=0 $$"
   ]
  },
  {
   "cell_type": "code",
   "execution_count": null,
   "metadata": {},
   "outputs": [],
   "source": [
    "model1 = \"model a; variable x;y; constraint A:x+y=10; maximize obj:x; end\""
   ]
  },
  {
   "cell_type": "code",
   "execution_count": null,
   "metadata": {},
   "outputs": [],
   "source": [
    "r = HTTP.request(\"POST\",url1,body=model1)"
   ]
  },
  {
   "cell_type": "code",
   "execution_count": null,
   "metadata": {},
   "outputs": [],
   "source": [
    "print(String(r.body))"
   ]
  },
  {
   "cell_type": "markdown",
   "metadata": {},
   "source": [
    "We can use indexed variables as well. A small -- also trivial -- model is this :\n",
    "\n",
    "$$ \\begin{array}{ll}\n",
    "       \\text{set} & I =\\{1,\\ldots,10\\} \\\\\n",
    "       \\text{variables} & 1 \\leq x_{i} \\leq 10\\ \\ (i\\in I)\\ ,\\ y \\geq 0 \\\\\n",
    "       \\max & x_1   \\\\\n",
    "       \\text{subject to} & x_i + y = 20 \\quad\\text{for all } i\\in I  \\\\\n",
    "  \\end{array} $$\n",
    "\n",
    "It is easy to see that the solution is :\n",
    "$$ x_i=10 \\ \\ (i\\in I)\\ ,\\ y=10 $$ "
   ]
  },
  {
   "cell_type": "code",
   "execution_count": null,
   "metadata": {},
   "outputs": [],
   "source": [
    "model2 = \"\"\"\n",
    "model a;\n",
    "  set i:=1..10; \n",
    "  variable x{i} [1..10]; y; \n",
    "  constraint A{i} : x+y = 20; \n",
    "  maximize obj : x[1]; \n",
    "end\n",
    "\"\"\""
   ]
  },
  {
   "cell_type": "code",
   "execution_count": null,
   "metadata": {},
   "outputs": [],
   "source": [
    "r = HTTP.request(\"POST\",url1,body=model2)"
   ]
  },
  {
   "cell_type": "code",
   "execution_count": null,
   "metadata": {},
   "outputs": [],
   "source": [
    "print(String(r.body))"
   ]
  },
  {
   "cell_type": "markdown",
   "metadata": {},
   "source": [
    "Next we show how to solve a larger linear model consisting of 1000 constraints and 2000 variables. The model is as follows:\n",
    "  $$ \\begin{array}{ll}\n",
    "       \\max & \\mathbf c \\cdot \\mathbf x   \\\\\n",
    "       \\textrm{subject to} & \\mathbf A\\cdot \\mathbf x \\leq \\mathbf b  \\\\\n",
    "                           & \\mathbf x \\geq 0\n",
    "  \\end{array} $$\n",
    "  The data for the matrix $A$, and the vectors $b$ and $c$ are generated in a random way. $x$ are the variables. Note that \"\"\"....\"\"\" is the pythonic way to define a multiline string"
   ]
  },
  {
   "cell_type": "code",
   "execution_count": null,
   "metadata": {},
   "outputs": [],
   "source": [
    "modelLP = \"\"\"\n",
    "model Lp2000 \"A larger 2000x1000 general LP\";\n",
    "  set  m :=  [1..1000];    n :=  [1..2000];\n",
    "  parameter\n",
    "    A{m,n} := if(Rnd(0,1)<0.02 , Rnd(0,60));\n",
    "    c{n}   := if(Rnd(0,1)<0.87 , Rnd(0,9));\n",
    "    b{m}   := if(Rnd(0,1)<0.87 , Rnd(10,70000));\n",
    "  variable  x{n};\n",
    "  constraint R{m}:  sum{n} A*x <= b;\n",
    "  maximize Obj:  sum{n}  c*x;\n",
    "end\n",
    "\"\"\""
   ]
  },
  {
   "cell_type": "code",
   "execution_count": null,
   "metadata": {},
   "outputs": [],
   "source": [
    "r=HTTP.request(\"POST\",url1,body=modelLP)"
   ]
  },
  {
   "cell_type": "code",
   "execution_count": null,
   "metadata": {},
   "outputs": [],
   "source": [
    "print(String(r.body))"
   ]
  },
  {
   "cell_type": "markdown",
   "metadata": {},
   "source": [
    "Note that the variables not shown in the list are zero."
   ]
  },
  {
   "cell_type": "markdown",
   "metadata": {},
   "source": [
    "# A Model from the Williams book"
   ]
  },
  {
   "cell_type": "markdown",
   "metadata": {},
   "source": [
    "This is the same model as shown at ** [Gurobi webinar Python I](http://www.gurobi.com/resources/seminars-and-videos/python-I-webinar) **"
   ]
  },
  {
   "cell_type": "code",
   "execution_count": null,
   "metadata": {},
   "outputs": [],
   "source": [
    "urlm = \"http://lpl.unifr.ch/lpl/LPLS\"\n",
    "\n",
    "modelm = \"\"\"\n",
    "model Will03 \"Factory planning I\"; \n",
    "set\n",
    "  p:=[Prod1 Prod2 Prod3 Prod4 Prod5 Prod6 Prod7] \"prod\";\n",
    "  m:=[grinder vDrill hDrill borer planer]  \"mach\";\n",
    "  t:=[Jan Feb Mar Apr May Jun]   \"period\";\n",
    "parameter  profit{p} := [10 6 8 4 11 9 3];\n",
    "  time{m,p} \"machine time table\" :=[.5 .7 . . .3 .2 .5, \n",
    "    .1 .2 . .3 . .6 . , .2 . .8 . . . .6 ,\n",
    "    .05 .03 . .07 .1 . .08 , . . .01 . .05 . .05]; \n",
    "  down{t,m} \"number of machines down\" := [ \n",
    "   (Jan,grinder) 1  (Feb,hDrill)  2  (Mar,borer)  1\n",
    "   (Apr,vDrill)  1  (May,grinder) 1  (May,vDrill) 1\n",
    "   (Jun,planer)  1  (Jun,hDrill)  1]; \n",
    "  qMach{m} \"nr. of machines available\" := [4 2 3 1 1]; \n",
    "  upper{t,p} \"market limitation of sells\" := [500 1000 \n",
    "   300 300 800 200 100, 600 500 200 0 400 300 150, 300\n",
    "   600 0 0 500 400 100, 200 300 400 500 200 0 100, 0\n",
    "   100 500 100 1000 300 0, 500 500 100 300 1100 500 60];\n",
    "  storeCost := 0.5;   storeCapacity := 100;\n",
    "  endStock  := 50;    hoursMonth    := 2*8*24; \n",
    "variable\n",
    "  manu{t,p}            \"quantity manufactured\";\n",
    "  held{t,p}            \"quantity stored\";\n",
    "  sell{t,p} [0..upper] \"quantity sold\"; \n",
    "constraint\n",
    "  Balance{t,p}: held[t-1,p] + manu = sell + held;\n",
    "  endstore{p}: held[#t,p] = endStock;\n",
    "  storecapa{t,p|t<#t}: held <= storeCapacity;\n",
    "  capa{t,m}: sum{p} time*manu <= hoursMonth*(qMach-down); \n",
    "maximize Profit: sum{t,p} (profit*sell - storeCost*held);\n",
    "\n",
    "Writep(Profit,manu,held,sell);\n",
    "end\n",
    "\"\"\"\n",
    "\n",
    "r=HTTP.request(\"POST\",urlm,body=modelm)\n",
    "\n",
    "print(String(r.body))\n",
    "\n"
   ]
  },
  {
   "cell_type": "markdown",
   "metadata": {},
   "source": [
    "# Return a SVG Graph instead"
   ]
  },
  {
   "cell_type": "markdown",
   "metadata": {},
   "source": [
    "LPL can generate svg graphs with its **Draw library**. The following model is an example of a model that \n",
    "generates a svg graph."
   ]
  },
  {
   "cell_type": "code",
   "execution_count": null,
   "metadata": {},
   "outputs": [],
   "source": [
    "model3 = \"\"\"\n",
    "model DrawFilters \"Draw Filters\";\n",
    "  Draw.Scale(2,2);\n",
    "  Draw.DefFilter('f', 9,11,1, 4);                            // 9=feGaussianBlur\n",
    "  Draw.DefFilter('f',13,1 ,2, 4,4);                          //13=feOffset\n",
    "  Draw.DefFilter('f',14,1 ,3, 5,.75,20,-2,Rgb(187,187,187)); //14=feSpecularLighting\n",
    "  Draw.DefFilter('f',18,-5000,-10000,20000);                 //18=fePointLight\n",
    "  Draw.DefFilter('f', 4,3,11,3,2);                           // 4=feComposite\n",
    "  Draw.DefFilter('f', 4,10,3,4,6,0,1,1,0);                   // 4=feComposite\n",
    "  Draw.DefFilter('f',11);                                    //11=feMerge\n",
    "  Draw.DefFilter('f',24,2);                                  //24=feMergeNode\n",
    "  Draw.DefFilter('f',24,4);                                  //24=feMergeNode\n",
    "    \n",
    "  Draw.Rect(1,20,198,85,Rgb(136,136,136),4);\n",
    "  //Draw.Group('#f');\n",
    "  Draw.Path('#f','M50,90 C0,90 0,30 50,30 L150,30 C200,30 200,90 150,90 z',-1,5,2*10);    \n",
    "  Draw.Path('#f','M60,80 C30,80 30,40 60,40 L140,40 C170,40 170,80 140,80 z',5);\n",
    "  //Draw.EndGroup();\n",
    "  Draw.Text('#f','LPL',62,76,2*45);\n",
    "  \n",
    "  Draw.Rect(1,125,198,60,Rgb(136,136,136),4);\n",
    "  Draw.Circle('#f',30,155,25,2);\n",
    "  Draw.Rect('#f',70,130,50,50,3);\n",
    "  Draw.Path('#f','M130,155 l50,-25 l0,50 z',4);  \n",
    "end\n",
    "\"\"\""
   ]
  },
  {
   "cell_type": "markdown",
   "metadata": {},
   "source": [
    "In this case, the parameter ``id=2`` must be sent to the LPLServer :"
   ]
  },
  {
   "cell_type": "code",
   "execution_count": null,
   "metadata": {},
   "outputs": [],
   "source": [
    "url2 = \"http://lpl.unifr.ch/lpl/LPLS?id=2\""
   ]
  },
  {
   "cell_type": "code",
   "execution_count": 70,
   "metadata": {},
   "outputs": [
    {
     "data": {
      "text/plain": [
       "HTTP.Messages.Response:\n",
       "\"\"\"\n",
       "HTTP/1.1 200 OK\r\n",
       "Server: Apache-Coyote/1.1\r\n",
       "Set-Cookie: JSESSIONID=A79DA6B38A0AD9000F9F707E0CCFD94D; Path=/lpl/; HttpOnly\r\n",
       "Content-Length: 2180\r\n",
       "Date: Fri, 07 Jun 2019 12:01:16 GMT\r\n",
       "\r\n",
       "&#60;?xml version=\"1.0\" encoding=\"ISO-8859-1\" standalone=\"no\" ?&#62;\r\n",
       "&#60;!DOCTYPE svg PUBLIC \"-//W3C//DTD SVG 20010904//EN\"\r\n",
       "\"http://www.w3.org/TR/2001/REC-SVG-20010904/DTD/svg10.dtd\"&#62;\r\n",
       "&#60;svg xmlns=\"http://www.w3.org/2000/svg\"\r\n",
       "  xmlns:xlink=\"http://www.w3.org/1999/xlink\"\r\n",
       "  width=\"410\" height=\"340\"  viewBox=\"-5 35 410 340\"&#62;\r\n",
       "\r\n",
       "  &#60;defs&#62;\r\n",
       "    &#60;filter id=\"f\"&#62;\r\n",
       "      &#60;feGaussianBlur in=\"SourceAlpha\" result=\"1\" stdDeviation=\"4\"/&#62;\r\n",
       "      &#60;feOffset in=\"1\" result=\"2\" dx=\"4\" dy=\"4\"/&#62;\r\n",
       "      &#60;feSpecularLighting in=\"1\" result=\"3\" surfaceScale=\"5\" specularConstant=\"0.75\" specularExponent=\"20\" lighting-color=\"#BBBBBB\"&#62;\r\n",
       "        &#60;fePointLight  x=\"-5000\" y=\"-10000\" z=\"20000\"/&#62;\r\n",
       "      &#60;/feSpecularLighting&#62;\r\n",
       "      &#60;feComposite in=\"3\" in2=\"SourceAlpha\" result=\"3\" operator=\"in\"/&#62;\r\n",
       "      &#60;feComposite in=\"SourceGraphic\" in2=\"3\" result=\"4\" operator=\"arithmetic\" k1=\"0\" k2=\"1\" k3=\"1\" k4=\"0\"/&#62;\r\n",
       "      &#60;feMerge&#62;\r\n",
       "      \n",
       "⋮\n",
       "2180-byte body\n",
       "\"\"\""
      ]
     },
     "execution_count": 70,
     "metadata": {},
     "output_type": "execute_result"
    }
   ],
   "source": [
    "r = HTTP.request(\"POST\",url2,body=model3)"
   ]
  },
  {
   "cell_type": "code",
   "execution_count": null,
   "metadata": {},
   "outputs": [],
   "source": [
    "r.body"
   ]
  },
  {
   "cell_type": "code",
   "execution_count": null,
   "metadata": {},
   "outputs": [],
   "source": [
    "print(String(r.body))"
   ]
  },
  {
   "cell_type": "markdown",
   "metadata": {},
   "source": [
    "The returned text contains the html code for '<' and '>', which is '``&#60;``' and '``&#62;``'. One needs to replace them and let's copy the result in a string with the name ``text`` :"
   ]
  },
  {
   "cell_type": "code",
   "execution_count": null,
   "metadata": {},
   "outputs": [],
   "source": [
    "text=String(r.body)\n",
    "#text=replace(text,\"&#60;\" => \"<\")\n",
    "#text=replace(text,\"&#62;\" => \">\")"
   ]
  },
  {
   "cell_type": "code",
   "execution_count": null,
   "metadata": {},
   "outputs": [],
   "source": [
    "print(text)\n"
   ]
  },
  {
   "cell_type": "markdown",
   "metadata": {},
   "source": [
    "Next the string ``text`` is written to a file ``Output.svg``."
   ]
  },
  {
   "cell_type": "code",
   "execution_count": null,
   "metadata": {},
   "outputs": [],
   "source": [
    "text_file = open(\"Output.svg\", \"w\")\n",
    "write(text_file,String(r.body))\n",
    "close(text_file)"
   ]
  },
  {
   "cell_type": "markdown",
   "metadata": {},
   "source": [
    "Finally let's load the SVG and display modules and then display the svg file, that is the svg file that the LPL code generated initially on the LPLServer :"
   ]
  },
  {
   "cell_type": "code",
   "execution_count": null,
   "metadata": {
    "scrolled": true
   },
   "outputs": [],
   "source": [
    "f= open(\"Output.svg\")\n",
    "display(\"image/svg+xml\", readstring(f))"
   ]
  },
  {
   "cell_type": "markdown",
   "metadata": {},
   "source": [
    "This ends the short tutorial about sending and running LPL code to the LPLServer. "
   ]
  },
  {
   "cell_type": "code",
   "execution_count": null,
   "metadata": {},
   "outputs": [],
   "source": []
  }
 ],
 "metadata": {
  "kernelspec": {
   "display_name": "Julia 1.1.1",
   "language": "julia",
   "name": "julia-1.1"
  },
  "language_info": {
   "file_extension": ".jl",
   "mimetype": "application/julia",
   "name": "julia",
   "version": "1.1.1"
  }
 },
 "nbformat": 4,
 "nbformat_minor": 2
}
